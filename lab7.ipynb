{
  "nbformat": 4,
  "nbformat_minor": 0,
  "metadata": {
    "colab": {
      "provenance": [],
      "authorship_tag": "ABX9TyNImK2VuDM9Rpg3Yclzhsl/",
      "include_colab_link": true
    },
    "kernelspec": {
      "name": "python3",
      "display_name": "Python 3"
    },
    "language_info": {
      "name": "python"
    }
  },
  "cells": [
    {
      "cell_type": "markdown",
      "metadata": {
        "id": "view-in-github",
        "colab_type": "text"
      },
      "source": [
        "<a href=\"https://colab.research.google.com/github/SmurZik/Telecom/blob/main/lab7.ipynb\" target=\"_parent\"><img src=\"https://colab.research.google.com/assets/colab-badge.svg\" alt=\"Open In Colab\"/></a>"
      ]
    },
    {
      "cell_type": "markdown",
      "source": [
        "# Упражнение 7.1\n",
        "В блокноте для этой главы, chap07.ipynb, представлены дополнительные примеры и пояснения. Блокнот был просмотрен и код запущен."
      ],
      "metadata": {
        "id": "kkS1qtzAF-Yz"
      }
    },
    {
      "cell_type": "code",
      "source": [
        "from google.colab import drive\n",
        "drive.mount('/content/drive')"
      ],
      "metadata": {
        "id": "E_E_AhzqHrUn"
      },
      "execution_count": null,
      "outputs": []
    },
    {
      "cell_type": "markdown",
      "source": [
        "# Упражнение 7.2\n",
        "Реализуйте алгоритм Быстрого Преобразования Фурье (БПФ), согласно лемме Дэниелсона-Ланцоша - рекурсивный алгоритм ДПФ. Подробности преобразований, алгоритм и самма лемма представлены в методичке."
      ],
      "metadata": {
        "id": "QXhQ1sY9GNhC"
      }
    },
    {
      "cell_type": "markdown",
      "source": [
        "Произведём импорт и реализуем алгоритм:"
      ],
      "metadata": {
        "id": "krJg7QuMGUE7"
      }
    },
    {
      "cell_type": "code",
      "source": [
        "import numpy as np\n",
        "PI2 = 2 * np.pi"
      ],
      "metadata": {
        "id": "T8feT6W0GXws"
      },
      "execution_count": null,
      "outputs": []
    },
    {
      "cell_type": "code",
      "source": [
        "ys = [-0.9,0.6,0.7,-0.8]\n",
        "hs = np.fft.fft(ys)\n",
        "hs"
      ],
      "metadata": {
        "colab": {
          "base_uri": "https://localhost:8080/"
        },
        "id": "WKBH_FAGGgvr",
        "outputId": "4e527c1a-cb7e-4614-ed9b-972591ee5fd5"
      },
      "execution_count": null,
      "outputs": [
        {
          "output_type": "execute_result",
          "data": {
            "text/plain": [
              "array([-0.4+0.j , -1.6-1.4j,  0. +0.j , -1.6+1.4j])"
            ]
          },
          "metadata": {},
          "execution_count": 3
        }
      ]
    },
    {
      "cell_type": "code",
      "source": [
        "def dft(ys):\n",
        "    N = len(ys)\n",
        "    ts = np.arange(N) / N\n",
        "    freqs = np.arange(N)\n",
        "    args = np.outer(ts, freqs)\n",
        "    M = np.exp(1j * PI2 * args)\n",
        "    amps = M.conj().transpose().dot(ys)\n",
        "    return amps"
      ],
      "metadata": {
        "id": "-jb80h5HGoQ0"
      },
      "execution_count": null,
      "outputs": []
    },
    {
      "cell_type": "code",
      "source": [
        "dft(ys)"
      ],
      "metadata": {
        "colab": {
          "base_uri": "https://localhost:8080/"
        },
        "id": "MuRuH1vYGtHP",
        "outputId": "df82955c-a177-4961-d33c-404dd20eb471"
      },
      "execution_count": null,
      "outputs": [
        {
          "output_type": "execute_result",
          "data": {
            "text/plain": [
              "array([-0.4+0.00000000e+00j, -1.6-1.40000000e+00j,  0. +3.91886976e-16j,\n",
              "       -1.6+1.40000000e+00j])"
            ]
          },
          "metadata": {},
          "execution_count": 5
        }
      ]
    },
    {
      "cell_type": "markdown",
      "source": [
        "Разделим массив на чётные и нечётные элементы:"
      ],
      "metadata": {
        "id": "jtWPgEt4Gwgk"
      }
    },
    {
      "cell_type": "code",
      "source": [
        "ys[::2] , ys[1::2]"
      ],
      "metadata": {
        "colab": {
          "base_uri": "https://localhost:8080/"
        },
        "id": "vxDltpQSGylU",
        "outputId": "dd1fec2c-d8bf-4f29-a047-80a13639dffd"
      },
      "execution_count": null,
      "outputs": [
        {
          "output_type": "execute_result",
          "data": {
            "text/plain": [
              "([-0.9, 0.7], [0.6, -0.8])"
            ]
          },
          "metadata": {},
          "execution_count": 6
        }
      ]
    },
    {
      "cell_type": "code",
      "source": [
        "def my_fft(ys):\n",
        "  He = dft(ys[::2])\n",
        "  Ho = dft(ys[1::2])\n",
        "  ns = np.arange(len(ys))\n",
        "  W = np.exp(-1j * PI2 * ns / len(ys))\n",
        "  return np.tile(He, 2) + W * np.tile(Ho, 2)"
      ],
      "metadata": {
        "id": "wMIkyBYxG2vn"
      },
      "execution_count": null,
      "outputs": []
    },
    {
      "cell_type": "markdown",
      "source": [
        "Не рекурсивный метод:"
      ],
      "metadata": {
        "id": "0xUTcGfvG56Q"
      }
    },
    {
      "cell_type": "code",
      "source": [
        "my_fft(ys)"
      ],
      "metadata": {
        "colab": {
          "base_uri": "https://localhost:8080/"
        },
        "id": "HprZ0-R5G61N",
        "outputId": "acb01302-edfb-4d78-c435-a3ce2ac16da2"
      },
      "execution_count": null,
      "outputs": [
        {
          "output_type": "execute_result",
          "data": {
            "text/plain": [
              "array([-0.4+0.0000000e+00j, -1.6-1.4000000e+00j,  0. +2.4492936e-17j,\n",
              "       -1.6+1.4000000e+00j])"
            ]
          },
          "metadata": {},
          "execution_count": 8
        }
      ]
    },
    {
      "cell_type": "code",
      "source": [
        "def my_fft(ys):\n",
        "  if len(ys) == 1:\n",
        "    return ys\n",
        "  He = my_fft(ys[::2])\n",
        "  Ho = my_fft(ys[1::2])\n",
        "  ns = np.arange(len(ys))\n",
        "  W = np.exp(-1j * PI2 * ns / len(ys))\n",
        "  return np.tile(He, 2) + W * np.tile(Ho, 2)"
      ],
      "metadata": {
        "id": "Gj_rQuzhG_97"
      },
      "execution_count": null,
      "outputs": []
    },
    {
      "cell_type": "markdown",
      "source": [
        "Рекурсивный метод:"
      ],
      "metadata": {
        "id": "2o-mBakOHCRr"
      }
    },
    {
      "cell_type": "code",
      "source": [
        "my_fft(ys)"
      ],
      "metadata": {
        "colab": {
          "base_uri": "https://localhost:8080/"
        },
        "id": "CM0zliQKHEo8",
        "outputId": "8880a4ff-bb01-4527-d3b5-fff86a877c9a"
      },
      "execution_count": null,
      "outputs": [
        {
          "output_type": "execute_result",
          "data": {
            "text/plain": [
              "array([-0.4+0.0000000e+00j, -1.6-1.4000000e+00j,  0. +2.4492936e-17j,\n",
              "       -1.6+1.4000000e+00j])"
            ]
          },
          "metadata": {},
          "execution_count": 10
        }
      ]
    }
  ]
}